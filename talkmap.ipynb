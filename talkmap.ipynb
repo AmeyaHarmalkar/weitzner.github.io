{
 "cells": [
  {
   "cell_type": "markdown",
   "metadata": {},
   "source": [
    "# Leaflet cluster map of talk locations\n",
    "\n",
    "Run this from the _talks/ directory, which contains .md files of all your talks. This scrapes the location YAML field from each .md file, geolocates it with geopy/Nominatim, and uses the getorg library to output data, HTML, and Javascript for a standalone cluster map."
   ]
  },
  {
   "cell_type": "code",
   "execution_count": 1,
   "metadata": {},
   "outputs": [
    {
     "name": "stdout",
     "output_type": "stream",
     "text": [
      "Requirement already satisfied: getorg in /Users/weitzner/anaconda3/lib/python3.6/site-packages (0.3.1)\n",
      "Requirement already satisfied: python-frontmatter in /Users/weitzner/anaconda3/lib/python3.6/site-packages (0.4.2)\n",
      "Requirement already satisfied: geopy in /Users/weitzner/anaconda3/lib/python3.6/site-packages (from getorg) (1.16.0)\n",
      "Requirement already satisfied: pygithub in /Users/weitzner/anaconda3/lib/python3.6/site-packages (from getorg) (1.40)\n",
      "Requirement already satisfied: retrying in /Users/weitzner/anaconda3/lib/python3.6/site-packages (from getorg) (1.3.3)\n",
      "Requirement already satisfied: PyYAML in /Users/weitzner/anaconda3/lib/python3.6/site-packages (from python-frontmatter) (3.12)\n",
      "Requirement already satisfied: six in /Users/weitzner/anaconda3/lib/python3.6/site-packages (from python-frontmatter) (1.11.0)\n",
      "Requirement already satisfied: geographiclib<2,>=1.49 in /Users/weitzner/anaconda3/lib/python3.6/site-packages (from geopy->getorg) (1.49)\n",
      "Requirement already satisfied: pyjwt in /Users/weitzner/anaconda3/lib/python3.6/site-packages (from pygithub->getorg) (1.6.4)\n",
      "Requirement already satisfied: requests>=2.14.0 in /Users/weitzner/anaconda3/lib/python3.6/site-packages (from pygithub->getorg) (2.19.1)\n",
      "Requirement already satisfied: chardet<3.1.0,>=3.0.2 in /Users/weitzner/anaconda3/lib/python3.6/site-packages (from requests>=2.14.0->pygithub->getorg) (3.0.4)\n",
      "Requirement already satisfied: urllib3<1.24,>=1.21.1 in /Users/weitzner/anaconda3/lib/python3.6/site-packages (from requests>=2.14.0->pygithub->getorg) (1.23)\n",
      "Requirement already satisfied: certifi>=2017.4.17 in /Users/weitzner/anaconda3/lib/python3.6/site-packages (from requests>=2.14.0->pygithub->getorg) (2018.4.16)\n",
      "Requirement already satisfied: idna<2.8,>=2.5 in /Users/weitzner/anaconda3/lib/python3.6/site-packages (from requests>=2.14.0->pygithub->getorg) (2.7)\n",
      "\u001b[31mdistributed 1.22.0 requires msgpack, which is not installed.\u001b[0m\n",
      "\u001b[31mflake8 3.5.0 has requirement pycodestyle<2.4.0,>=2.0.0, but you'll have pycodestyle 2.4.0 which is incompatible.\u001b[0m\n",
      "\u001b[31mflake8 3.5.0 has requirement pyflakes<1.7.0,>=1.5.0, but you'll have pyflakes 2.0.0 which is incompatible.\u001b[0m\n",
      "\u001b[33mYou are using pip version 10.0.1, however version 18.0 is available.\n",
      "You should consider upgrading via the 'pip install --upgrade pip' command.\u001b[0m\n"
     ]
    }
   ],
   "source": [
    "!pip install getorg python-frontmatter\n"
   ]
  },
  {
   "cell_type": "code",
   "execution_count": 2,
   "metadata": {},
   "outputs": [
    {
     "name": "stdout",
     "output_type": "stream",
     "text": [
      "Iywidgets and ipyleaflet support disabled. You must be in a Jupyter notebook to use this feature.\n",
      "Error raised:\n",
      "No module named 'ipyleaflet'\n",
      "Check that you have enabled ipyleaflet in Jupyter with:\n",
      "    jupyter nbextension enable --py ipyleaflet\n"
     ]
    }
   ],
   "source": [
    "import glob\n",
    "import getorg\n",
    "from geopy import Nominatim\n",
    "import frontmatter"
   ]
  },
  {
   "cell_type": "code",
   "execution_count": 3,
   "metadata": {},
   "outputs": [],
   "source": [
    "g = glob.glob(\"_talks/*.md\")"
   ]
  },
  {
   "cell_type": "code",
   "execution_count": 4,
   "metadata": {},
   "outputs": [
    {
     "name": "stderr",
     "output_type": "stream",
     "text": [
      "/Users/weitzner/anaconda3/lib/python3.6/site-packages/geopy/geocoders/osm.py:138: UserWarning: Using Nominatim with the default \"geopy/1.16.0\" `user_agent` is strongly discouraged, as it violates Nominatim's ToS https://operations.osmfoundation.org/policies/nominatim/ and may possibly cause 403 and 429 HTTP errors. Please specify a custom `user_agent` with `Nominatim(user_agent=\"my-application\")` or by overriding the default `user_agent`: `geopy.geocoders.options.default_user_agent = \"my-application\"`. In geopy 2.0 this will become an exception.\n",
      "  UserWarning\n"
     ]
    }
   ],
   "source": [
    "geocoder = Nominatim()\n",
    "location_dict = {}\n",
    "location = \"\"\n",
    "permalink = \"\"\n",
    "title = \"\""
   ]
  },
  {
   "cell_type": "code",
   "execution_count": 6,
   "metadata": {},
   "outputs": [
    {
     "data": {
      "text/plain": [
       "{'title': 'Computational structure prediction, docking and design of antibodies',\n",
       " 'collection': 'talks',\n",
       " 'type': 'Invited Talk',\n",
       " 'permalink': '/talks/2013-12-11-rosetta-ab',\n",
       " 'venue': 'IBC Antibody Engineering and Therapeutics',\n",
       " 'date': datetime.date(2013, 12, 11),\n",
       " 'location': 'Huntington Beach, CA',\n",
       " 'content': 'I discussed the latest developments in Rosetta-based approaches for antibody structure prediction and docking, with a focus on new loop prediction methods, (specifically for CDR H3 loops), and using homology models to design for binding desired target epitopes.\\n\\n(Delivered on behalf of Jeff Gray during his paternity leave)'}"
      ]
     },
     "execution_count": 6,
     "metadata": {},
     "output_type": "execute_result"
    }
   ],
   "source": [
    "a = frontmatter.load(g[0])\n",
    "a.to_dict()"
   ]
  },
  {
   "cell_type": "code",
   "execution_count": 11,
   "metadata": {},
   "outputs": [
    {
     "name": "stdout",
     "output_type": "stream",
     "text": [
      "Huntington Beach, California | IBC Antibody Engineering and Therapeutics | Computational structure prediction, docking and design of antibodies \n",
      " Huntington Beach, California \n",
      " Huntington Beach, Orange County, California, United States of America \n",
      "\n",
      "\n",
      "San Diego, California | America's Antibody Congress | Computer-guided prediction and validation of antibody structures \n",
      " San Diego, California \n",
      " San Diego, San Diego County, California, United States of America \n",
      "\n",
      "\n",
      "Austin, Texas | Institute for Cellular and Molecular Biology, University of Texas at Austin | Next-generation antibody modeling \n",
      " Austin, Texas \n",
      " Austin, Travis County, Texas, 78701, United States of America \n",
      "\n",
      "\n",
      "San Francisco, California | AIChE Annual Conference | Kinked CDR H3-like loops are common \n",
      " San Francisco, California \n",
      " California, San Francisco, El Carmen, Norte de Santander, Colombia \n",
      "\n",
      "\n",
      "Leavenworth, Washington | Rosetta Conference | Using PyRosetta for research \n",
      " Leavenworth, Washington \n",
      " Leavenworth, Chelan County, Washington, United States of America \n",
      "\n",
      "\n",
      "Leavenworth, Washington | Rosetta Conference | PyRosetta 2.0: I can make a new score term in 6 lines! \n",
      " Leavenworth, Washington \n",
      " Leavenworth, Chelan County, Washington, United States of America \n",
      "\n",
      "\n",
      "Leavenworth, Washington | Rosetta Conference | Antibodies are proteins too! \n",
      " Leavenworth, Washington \n",
      " Leavenworth, Chelan County, Washington, United States of America \n",
      "\n",
      "\n",
      "Huntington Beach, California | IBC Antibody Engineering and Therapeutics | Benchmarking RosettaAntibody: Antibody Modeling Assessment II \n",
      " Huntington Beach, California \n",
      " Huntington Beach, Orange County, California, United States of America \n",
      "\n",
      "\n",
      "Missoula, Montana  | Center for Biomolecular Structure and Dynamics, University of Montana | Next-generation antibody modeling \n",
      " Missoula, Montana  \n",
      " Missoula, Missoula County, Montana, United States of America \n",
      "\n",
      "\n",
      "Munich, Germany | Fakultät für Chemie, Technische Universität München | The origin of CDR H3 structural diversity \n",
      " Munich, Germany \n",
      " München, Obb, Bayern, Deutschland \n",
      "\n",
      "\n",
      "San Diego, California | America’s Antibody Congress | Producing physically realistic structural models with RosettaAntibody \n",
      " San Diego, California \n",
      " San Diego, San Diego County, California, United States of America \n",
      "\n",
      "\n",
      "Leavenworth, Washington | Rosetta Conference | PyMOL–PyRosetta Integration \n",
      " Leavenworth, Washington \n",
      " Leavenworth, Chelan County, Washington, United States of America \n",
      "\n",
      "\n",
      "Bellevue, Washington | Institute for Disease Modeling | Best practices in collaborative software development: lessons learned in the Rosetta Commons \n",
      " Bellevue, Washington \n",
      " Bellevue, King County, Washington, United States of America \n",
      "\n",
      "\n"
     ]
    }
   ],
   "source": [
    "suff_dict = {\", CA\": \" California\", \", WA\": \" Washington\", \", TX\": \" Texas\", \", MT\": \" Montana \"}\n",
    "for file in g:\n",
    "    data = frontmatter.load(file)\n",
    "    data_dict = data.to_dict()\n",
    "    location = data_dict['location']\n",
    "    if location[-4:] in suff_dict:\n",
    "        location = location[:-3] + suff_dict[location[-4:]]\n",
    "    \n",
    "    descript_name = location + \" | \" + data_dict['venue'] + \" | \" + data_dict['title']\n",
    "    location_dict[descript_name] = geocoder.geocode(location)\n",
    "    print(descript_name, \"\\n\", location, \"\\n\", location_dict[descript_name], \"\\n\\n\")\n"
   ]
  },
  {
   "cell_type": "code",
   "execution_count": 12,
   "metadata": {},
   "outputs": [
    {
     "data": {
      "text/plain": [
       "'Written map to talk_map/'"
      ]
     },
     "execution_count": 12,
     "metadata": {},
     "output_type": "execute_result"
    }
   ],
   "source": [
    "m = getorg.orgmap.create_map_obj()\n",
    "getorg.orgmap.output_html_cluster_map(location_dict, folder_name=\"talk_map\", hashed_usernames=False)"
   ]
  },
  {
   "cell_type": "code",
   "execution_count": 13,
   "metadata": {},
   "outputs": [
    {
     "data": {
      "text/plain": [
       "{'Huntington Beach, California | IBC Antibody Engineering and Therapeutics | Computational structure prediction, docking and design of antibodies': Location(Huntington Beach, Orange County, California, United States of America, (33.6783336, -118.0000166, 0.0)),\n",
       " \"San Diego, California | America's Antibody Congress | Computer-guided prediction and validation of antibody structures\": Location(San Diego, San Diego County, California, United States of America, (32.7174209, -117.1627714, 0.0)),\n",
       " 'Austin, TX | Institute for Cellular and Molecular Biology, University of Texas at Austin | Next-generation antibody modeling': Location(Austin, Travis County, Texas, 78701, United States of America, (30.2711286, -97.7436995, 0.0)),\n",
       " 'San Francisco, California | AIChE Annual Conference | Kinked CDR H3-like loops are common': Location(California, San Francisco, El Carmen, Norte de Santander, Colombia, (8.6545394, -73.3676149, 0.0)),\n",
       " 'Leavenworth, WA | Rosetta Conference | Using PyRosetta for research': Location(Leavenworth, Chelan County, Washington, United States of America, (47.5969138, -120.6610816, 0.0)),\n",
       " 'Leavenworth, WA | Rosetta Conference | PyRosetta 2.0: I can make a new score term in 6 lines!': Location(Leavenworth, Chelan County, Washington, United States of America, (47.5969138, -120.6610816, 0.0)),\n",
       " 'Leavenworth, WA | Rosetta Conference | Antibodies are proteins too!': Location(Leavenworth, Chelan County, Washington, United States of America, (47.5969138, -120.6610816, 0.0)),\n",
       " 'Huntington Beach, California | IBC Antibody Engineering and Therapeutics | Benchmarking RosettaAntibody: Antibody Modeling Assessment II': Location(Huntington Beach, Orange County, California, United States of America, (33.6783336, -118.0000166, 0.0)),\n",
       " 'Missoula, MT | Center for Biomolecular Structure and Dynamics, University of Montana | Next-generation antibody modeling': Location(Missoula, Missoula County, Montana, United States of America, (46.8700801, -113.9952796, 0.0)),\n",
       " 'Munich, Germany | Fakultät für Chemie, Technische Universität München | The origin of CDR H3 structural diversity': Location(München, Obb, Bayern, Deutschland, (48.1371079, 11.5753822, 0.0)),\n",
       " 'San Diego, California | America’s Antibody Congress | Producing physically realistic structural models with RosettaAntibody': Location(San Diego, San Diego County, California, United States of America, (32.7174209, -117.1627714, 0.0)),\n",
       " 'Leavenworth, WA | Rosetta Conference | PyMOL–PyRosetta Integration': Location(Leavenworth, Chelan County, Washington, United States of America, (47.5969138, -120.6610816, 0.0)),\n",
       " 'Bellevue, WA | Institute for Disease Modeling | Best practices in collaborative software development: lessons learned in the Rosetta Commons': Location(Bellevue, King County, Washington, United States of America, (47.6144219, -122.1923372, 0.0)),\n",
       " 'Austin, Texas | Institute for Cellular and Molecular Biology, University of Texas at Austin | Next-generation antibody modeling': Location(Austin, Travis County, Texas, 78701, United States of America, (30.2711286, -97.7436995, 0.0)),\n",
       " 'Leavenworth, Washington | Rosetta Conference | Using PyRosetta for research': Location(Leavenworth, Chelan County, Washington, United States of America, (47.5969138, -120.6610816, 0.0)),\n",
       " 'Leavenworth, Washington | Rosetta Conference | PyRosetta 2.0: I can make a new score term in 6 lines!': Location(Leavenworth, Chelan County, Washington, United States of America, (47.5969138, -120.6610816, 0.0)),\n",
       " 'Leavenworth, Washington | Rosetta Conference | Antibodies are proteins too!': Location(Leavenworth, Chelan County, Washington, United States of America, (47.5969138, -120.6610816, 0.0)),\n",
       " 'Missoula, Montana  | Center for Biomolecular Structure and Dynamics, University of Montana | Next-generation antibody modeling': Location(Missoula, Missoula County, Montana, United States of America, (46.8700801, -113.9952796, 0.0)),\n",
       " 'Leavenworth, Washington | Rosetta Conference | PyMOL–PyRosetta Integration': Location(Leavenworth, Chelan County, Washington, United States of America, (47.5969138, -120.6610816, 0.0)),\n",
       " 'Bellevue, Washington | Institute for Disease Modeling | Best practices in collaborative software development: lessons learned in the Rosetta Commons': Location(Bellevue, King County, Washington, United States of America, (47.6144219, -122.1923372, 0.0))}"
      ]
     },
     "execution_count": 13,
     "metadata": {},
     "output_type": "execute_result"
    }
   ],
   "source": [
    "location_dict"
   ]
  },
  {
   "cell_type": "code",
   "execution_count": 9,
   "metadata": {},
   "outputs": [
    {
     "data": {
      "text/plain": [
       "'Huntington Beach, California'"
      ]
     },
     "execution_count": 9,
     "metadata": {},
     "output_type": "execute_result"
    }
   ],
   "source": [
    "location"
   ]
  },
  {
   "cell_type": "code",
   "execution_count": null,
   "metadata": {},
   "outputs": [],
   "source": []
  }
 ],
 "metadata": {
  "anaconda-cloud": {},
  "kernelspec": {
   "display_name": "Python 3",
   "language": "python",
   "name": "python3"
  },
  "language_info": {
   "codemirror_mode": {
    "name": "ipython",
    "version": 3
   },
   "file_extension": ".py",
   "mimetype": "text/x-python",
   "name": "python",
   "nbconvert_exporter": "python",
   "pygments_lexer": "ipython3",
   "version": "3.6.6"
  }
 },
 "nbformat": 4,
 "nbformat_minor": 1
}
